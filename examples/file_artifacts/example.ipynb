{
 "cells": [
  {
   "cell_type": "markdown",
   "id": "cb0346eb-4a5f-4629-99b0-65036de35132",
   "metadata": {
    "tags": []
   },
   "source": [
    "# Incorporation of file artifacts in a HTML page"
   ]
  },
  {
   "cell_type": "markdown",
   "id": "f26265ae-8a5b-496c-9a10-ef1b4dbaaf99",
   "metadata": {},
   "source": [
    "We have written this [report](report.ipynb), which includes [two](fig1.png) [figures](fig2.png) rendered as external images. If one opens the report notebook, they will remark that images look broken. This will get fixed by inline incorporation."
   ]
  },
  {
   "cell_type": "code",
   "execution_count": 1,
   "id": "466e4292-2f1a-401b-8fde-70b40df60904",
   "metadata": {},
   "outputs": [
    {
     "name": "stderr",
     "output_type": "stream",
     "text": [
      "[NbConvertApp] Converting notebook report.ipynb to html\n",
      "[NbConvertApp] Writing 616293 bytes to report.html\n"
     ]
    }
   ],
   "source": [
    "!jupyter nbconvert --Exporter.preprocessors nbconvert_inline_artifacts.ArtifactInlinePreprocessor --to html report.ipynb"
   ]
  },
  {
   "cell_type": "markdown",
   "id": "1b87e003-a0d2-4ee5-8aa8-e99d7da7e0d3",
   "metadata": {},
   "source": [
    "Now we can open [report.html](report.html) to read the complete report. Right-click on the file and open it in an editor to observe that it does not depend at all on the image files: you can move it to another directory, and the images will still display."
   ]
  }
 ],
 "metadata": {
  "kernelspec": {
   "display_name": "nbconvert-inline-artifacts (Python)",
   "language": "python",
   "name": "conda-env-nbconvert-inline-artifacts-py"
  },
  "language_info": {
   "codemirror_mode": {
    "name": "ipython",
    "version": 3
   },
   "file_extension": ".py",
   "mimetype": "text/x-python",
   "name": "python",
   "nbconvert_exporter": "python",
   "pygments_lexer": "ipython3",
   "version": "3.10.4"
  }
 },
 "nbformat": 4,
 "nbformat_minor": 5
}
