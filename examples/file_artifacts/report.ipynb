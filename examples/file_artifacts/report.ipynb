{
 "cells": [
  {
   "cell_type": "markdown",
   "id": "0fc6ddd6-718a-41cd-bde8-47fb9d5a34c5",
   "metadata": {},
   "source": [
    "# Important report"
   ]
  },
  {
   "cell_type": "markdown",
   "id": "f47c49c9-01d1-48bc-8e03-d4e7cea39cc5",
   "metadata": {},
   "source": [
    "First, I think it's important we discuss the bars of the last few months. Refer to figure 1."
   ]
  },
  {
   "cell_type": "markdown",
   "id": "22b82e6c-6b76-428d-8068-5985e57d535a",
   "metadata": {},
   "source": [
    "![](artifact:image/png:fig1.png)\n",
    "\n",
    "<center><small><em>Figure 1</em></small></center>"
   ]
  },
  {
   "cell_type": "markdown",
   "id": "ca89f9a0-1588-4708-a001-91d3fb498bad",
   "metadata": {},
   "source": [
    "It's not hard to see that there are more K$ in red than in green."
   ]
  },
  {
   "cell_type": "markdown",
   "id": "32847cce-dee6-4566-8d44-d241e3c9b50e",
   "metadata": {},
   "source": [
    "## Carl is a problematic pie eater\n",
    "\n",
    "Last time we brought a lemon pie for lunch & learn, Carl ate most of the vanilla meringue topping it while we had our backs turned to him. Refer to figure 2."
   ]
  },
  {
   "cell_type": "markdown",
   "id": "f210d054-350f-41f9-9679-de9c48cbb5b6",
   "metadata": {},
   "source": [
    "![](artifact:image/png:fig2.png)\n",
    "\n",
    "<center><small><em>Figure 2</em></small></center>"
   ]
  },
  {
   "cell_type": "markdown",
   "id": "147df0e7-a784-4da8-bfbe-ccd83466d5ed",
   "metadata": {},
   "source": [
    "Seriously, Carl, these meringue thefts have got to stop. Our lemon pie is tart! And it's all your fault!"
   ]
  }
 ],
 "metadata": {
  "kernelspec": {
   "display_name": "nbconvert-inline-artifacts (Python)",
   "language": "python",
   "name": "conda-env-nbconvert-inline-artifacts-py"
  },
  "language_info": {
   "codemirror_mode": {
    "name": "ipython",
    "version": 3
   },
   "file_extension": ".py",
   "mimetype": "text/x-python",
   "name": "python",
   "nbconvert_exporter": "python",
   "pygments_lexer": "ipython3",
   "version": "3.10.4"
  }
 },
 "nbformat": 4,
 "nbformat_minor": 5
}
