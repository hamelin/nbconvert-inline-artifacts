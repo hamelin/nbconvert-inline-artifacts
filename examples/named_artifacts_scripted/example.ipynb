{
 "cells": [
  {
   "cell_type": "markdown",
   "id": "6f5f8c8b-8a2a-4826-961e-a04e8510f478",
   "metadata": {
    "tags": []
   },
   "source": [
    "# Scripted document conversion with embedded alternative versions\n",
    "\n",
    "This example shows how to articulate the inlining of alternative versions or formats of a document (e.g. PDF version for printing) in order to produce a HTML report. [Here](report.ipynb) is the report core. A quick gander shows that it is composed of three cells, two of which are Markdown cells. In addition, the top cell carries tag `alts`, as well as *named artifacts* designating alternative versions of the report for distinct modes of consumption."
   ]
  },
  {
   "cell_type": "markdown",
   "id": "88888285-feff-4fc6-9fb0-c9f304487b8a",
   "metadata": {},
   "source": [
    "## Step 1: produce the alternative versions\n",
    "\n",
    "These embedded documents should not contain the links to alternatives -- how would they be resolved? Artifact inlining is not [Ouroboros](https://en.wikipedia.org/wiki/Ouroboros) instantiation. So we will take out the cell with those artifact links when rendering the embedded documents."
   ]
  },
  {
   "cell_type": "code",
   "execution_count": 1,
   "id": "ecfbb7c9-098d-4cca-af8c-2f27f78663f7",
   "metadata": {},
   "outputs": [],
   "source": [
    "from pathlib import Path\n",
    "\n",
    "from nbconvert import PDFExporter, NotebookExporter, HTMLExporter\n",
    "from traitlets.config import Config"
   ]
  },
  {
   "cell_type": "code",
   "execution_count": 2,
   "id": "b8009661-c833-4658-b28a-127ae2253fee",
   "metadata": {},
   "outputs": [
    {
     "data": {
      "text/plain": [
       "{'Exporter': {'preprocessors': ['nbconvert.preprocessors.TagRemovePreprocessor']},\n",
       " 'TagRemovePreprocessor': {'remove_cell_tags': ['alts']}}"
      ]
     },
     "execution_count": 2,
     "metadata": {},
     "output_type": "execute_result"
    }
   ],
   "source": [
    "c_embed = Config()\n",
    "c_embed.Exporter.preprocessors = [\"nbconvert.preprocessors.TagRemovePreprocessor\"]\n",
    "c_embed.TagRemovePreprocessor.remove_cell_tags = [\"alts\"]\n",
    "c_embed"
   ]
  },
  {
   "cell_type": "markdown",
   "id": "5730928d-0b58-46f6-a2a0-b257bec6cf47",
   "metadata": {},
   "source": [
    "For PDF export, the default title corresponds to the stem of the notebook's file name, and there is no author in the `\\author` LaTeX sense. To set title and author, one must edit notebook metadata, from the right toolbar, and add the following JSON fields to the metadata object:\n",
    "\n",
    "```json\n",
    "\"title\": \"The title of the document\",\n",
    "\"authors\": [{\"name\": \"Author 1\"}, {\"name\": \"Author 2\"}...]\n",
    "```\n",
    "\n",
    "The [notebook](report.ipynb) we are working with defines these, if you would like to take inspiration."
   ]
  },
  {
   "cell_type": "code",
   "execution_count": 3,
   "id": "31231ce5-a00b-4f37-a3ec-203f0dd41ecc",
   "metadata": {},
   "outputs": [
    {
     "name": "stdout",
     "output_type": "stream",
     "text": [
      "CPU times: total: 438 ms\n",
      "Wall time: 15.7 s\n"
     ]
    },
    {
     "data": {
      "text/plain": [
       "(bytes, 15908, b'%PDF-1.5\\n%\\xe4\\xf0\\xed\\xf8\\n1')"
      ]
     },
     "execution_count": 3,
     "metadata": {},
     "output_type": "execute_result"
    }
   ],
   "source": [
    "%%time\n",
    "exporter_pdf = PDFExporter(config=c_embed)\n",
    "pdf, _ = exporter_pdf.from_filename(\"report.ipynb\")\n",
    "type(pdf), len(pdf), pdf[:16]"
   ]
  },
  {
   "cell_type": "code",
   "execution_count": 4,
   "id": "b9d96cd4-d613-4354-8bfa-2221fe940252",
   "metadata": {},
   "outputs": [
    {
     "name": "stdout",
     "output_type": "stream",
     "text": [
      "CPU times: total: 719 ms\n",
      "Wall time: 733 ms\n"
     ]
    },
    {
     "data": {
      "text/plain": [
       "(str, 1330, '{\\n \"cells\": [\\n  ')"
      ]
     },
     "execution_count": 4,
     "metadata": {},
     "output_type": "execute_result"
    }
   ],
   "source": [
    "%%time\n",
    "exporter_notebook = NotebookExporter(config=c_embed)\n",
    "notebook, _ = exporter_notebook.from_filename(\"report.ipynb\")\n",
    "type(notebook), len(notebook), notebook[:16]"
   ]
  },
  {
   "cell_type": "markdown",
   "id": "21ae3e5c-10dc-426f-b7f0-f049a913ac8f",
   "metadata": {},
   "source": [
    "Our notebook is a JSON string, let's make it a `bytes`  string. Thanks to the [JSON specification](https://datatracker.ietf.org/doc/html/rfc7159), we know this byte string must be encoded to UTF-8."
   ]
  },
  {
   "cell_type": "code",
   "execution_count": 5,
   "id": "49607bc8-3775-48b9-a309-df98d87a636a",
   "metadata": {},
   "outputs": [
    {
     "data": {
      "text/plain": [
       "b'{\\n \"cells\": [\\n  '"
      ]
     },
     "execution_count": 5,
     "metadata": {},
     "output_type": "execute_result"
    }
   ],
   "source": [
    "notebook_bytes = notebook.encode(\"utf-8\")\n",
    "notebook_bytes[:16]"
   ]
  },
  {
   "cell_type": "markdown",
   "id": "2edf06b3-0637-4538-b42f-9a2ae73c7fc2",
   "metadata": {},
   "source": [
    "## Step 2: put together the *master* document\n",
    "\n",
    "The Python environment is perfect for configuring a more complex preprocessing nbconvert pipeline."
   ]
  },
  {
   "cell_type": "code",
   "execution_count": 6,
   "id": "c360d8b8-7284-4775-9dad-11846c971dce",
   "metadata": {},
   "outputs": [],
   "source": [
    "c_master = Config()\n",
    "c_master.Exporter.preprocessors = [\"nbconvert_inline_artifacts.ArtifactInlinePreprocessor\"]\n",
    "c_master.ArtifactInlinePreprocessor.artifacts = {\n",
    "    \"pdf\": {\"mime_type\": \"application/pdf\", \"content\": pdf},\n",
    "    \"notebook\": {\"mime_type\": \"application/vnd.jupyter\", \"content\": notebook_bytes}\n",
    "}"
   ]
  },
  {
   "cell_type": "code",
   "execution_count": 7,
   "id": "4857488d-e99d-486c-9409-6202ff1e0bfc",
   "metadata": {},
   "outputs": [],
   "source": [
    "path_master = Path(\"report.html\")"
   ]
  },
  {
   "cell_type": "code",
   "execution_count": 8,
   "id": "4aa8617c-5000-4ecb-95da-ac6411ae0501",
   "metadata": {},
   "outputs": [
    {
     "name": "stdout",
     "output_type": "stream",
     "text": [
      "CPU times: total: 766 ms\n",
      "Wall time: 762 ms\n"
     ]
    }
   ],
   "source": [
    "%%time\n",
    "exporter_master = HTMLExporter(config=c_master)\n",
    "with path_master.open(mode=\"wb\") as file:\n",
    "    master, _ = exporter_master.from_filename(\"report.ipynb\")\n",
    "    assert isinstance(master, str)\n",
    "    file.write(master.encode(\"utf-8\"))"
   ]
  },
  {
   "cell_type": "code",
   "execution_count": 9,
   "id": "e1bd4be0-fc32-4c85-a084-b8b5d8f362b5",
   "metadata": {},
   "outputs": [
    {
     "data": {
      "text/plain": [
       "600305"
      ]
     },
     "execution_count": 9,
     "metadata": {},
     "output_type": "execute_result"
    }
   ],
   "source": [
    "assert path_master.is_file()\n",
    "path_master.stat().st_size"
   ]
  },
  {
   "cell_type": "markdown",
   "id": "56092d00-8026-4407-b2e7-919ab7df0f17",
   "metadata": {},
   "source": [
    "For such mostly-text files, most of the file mass stems from the incorporation of styling content that nbconvert itself generates when converting a Jupyter notebook to a HTML file. However, as soon as a notebook starts containing any significant binary images, videos or anything of the sort, one may presume that the inlining of alternative versions would multiply the mass of the master document. The author should be conscious of this trade-off and evaluate whether network connectivity or storage capacity costs the most in their computing environment and for their content distribution context."
   ]
  }
 ],
 "metadata": {
  "kernelspec": {
   "display_name": "nbconvert-inline-artifacts (Python)",
   "language": "python",
   "name": "conda-env-nbconvert-inline-artifacts-py"
  },
  "language_info": {
   "codemirror_mode": {
    "name": "ipython",
    "version": 3
   },
   "file_extension": ".py",
   "mimetype": "text/x-python",
   "name": "python",
   "nbconvert_exporter": "python",
   "pygments_lexer": "ipython3",
   "version": "3.10.4"
  }
 },
 "nbformat": 4,
 "nbformat_minor": 5
}
