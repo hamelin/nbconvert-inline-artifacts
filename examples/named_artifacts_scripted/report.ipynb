{
 "cells": [
  {
   "cell_type": "markdown",
   "id": "4cb701e3-6234-4e72-a0cb-2d73c8fe89ef",
   "metadata": {},
   "source": [
    "# Report with alternative versions\n",
    "\n",
    "Author: Human Being"
   ]
  },
  {
   "cell_type": "markdown",
   "id": "7f2acccb-495a-4d60-b60c-f23b8b9a003b",
   "metadata": {
    "tags": [
     "alts"
    ]
   },
   "source": [
    "---\n",
    "\n",
    "**Alternative versions**\n",
    "\n",
    "1. <a href=\"artifact::pdf\" download=\"report.pdf\" type=\"application/pdf\">PDF</a> for printing or paginated reading\n",
    "1. <a href=\"artifact::notebook\" download=\"report.ipynb\" type=\"application/vnd.jupyter\">Jupyter notebook</a> for interactive computing.\n",
    "\n",
    "---"
   ]
  },
  {
   "cell_type": "markdown",
   "id": "8006efe6-8050-4a8f-beac-afa501a3f9d9",
   "metadata": {},
   "source": [
    "Some sort of literate programming:"
   ]
  },
  {
   "cell_type": "code",
   "execution_count": 1,
   "id": "1ef07e6b-fb1e-460c-9010-1f337128dff0",
   "metadata": {},
   "outputs": [
    {
     "name": "stdout",
     "output_type": "stream",
     "text": [
      "Hello world!\n"
     ]
    }
   ],
   "source": [
    "print(\"Hello world!\")"
   ]
  }
 ],
 "metadata": {
  "authors": [
   {
    "name": "Human Being"
   }
  ],
  "kernelspec": {
   "display_name": "jupyter (Python) *",
   "language": "python",
   "name": "conda-env-jupyter-py"
  },
  "language_info": {
   "codemirror_mode": {
    "name": "ipython",
    "version": 3
   },
   "file_extension": ".py",
   "mimetype": "text/x-python",
   "name": "python",
   "nbconvert_exporter": "python",
   "pygments_lexer": "ipython3",
   "version": "3.10.4"
  },
  "nb_author": "Benoit Hamelin",
  "nb_title": "Report with alternative versions",
  "title": "Report with alternative versions"
 },
 "nbformat": 4,
 "nbformat_minor": 5
}
